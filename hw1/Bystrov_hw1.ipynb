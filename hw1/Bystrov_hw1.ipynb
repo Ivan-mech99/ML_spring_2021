{
 "cells": [
  {
   "cell_type": "markdown",
   "metadata": {},
   "source": [
    "**Общая информация**\n",
    "\n",
    "**Срок сдачи:** 29 марта 2021, 08:30 \n",
    "\n",
    "**Штраф за опоздание:** по 1 баллу за 24 часа задержки. Через 5 дней домашнее задание сгорает.\n",
    "\n",
    "При отправлении ДЗ указывайте фамилию в названии файла\n",
    "Присылать ДЗ необходимо в виде ссылки на свой github репозиторий на почту ml1.sphere@mail.ru с указанием темы в следующем формате:\n",
    "\n",
    "[ML0220, Задание 1] Фамилия Имя.\n",
    "\n",
    "Используйте данный Ipython Notebook при оформлении домашнего задания."
   ]
  },
  {
   "cell_type": "markdown",
   "metadata": {},
   "source": [
    "\n",
    "**Штрафные баллы:**\n",
    "\n",
    "1. Отсутствие фамилии в имени скрипта (скрипт должен называться по аналогии со stroykova_hw1.ipynb) -0.5 баллов\n",
    "2. Все строчки должны быть выполнены. Нужно, чтобы output команды можно было увидеть уже в git'е. В противном случае -0.5 баллов\n"
   ]
  },
  {
   "cell_type": "code",
   "execution_count": 1,
   "metadata": {},
   "outputs": [],
   "source": [
    "import numpy as np\n",
    "import matplotlib.pyplot as plt\n",
    "\n",
    "import seaborn as sns\n",
    "from sklearn import datasets\n",
    "from sklearn.base import BaseEstimator\n",
    "from sklearn.datasets import fetch_openml, fetch_20newsgroups\n",
    "\n",
    "from sklearn.model_selection import train_test_split\n",
    "from sklearn.neighbors import KNeighborsClassifier, KDTree \n",
    "from sklearn.metrics import accuracy_score"
   ]
  },
  {
   "cell_type": "markdown",
   "metadata": {},
   "source": [
    "##### Задание 1 (1 балл)\n",
    "Реализовать KNN в классе MyKNeighborsClassifier (обязательное условие: точность не ниже sklearn реализации)\n",
    "Разберитесь самостоятельно, какая мера расстояния используется в KNeighborsClassifier дефолтно и реализуйте свой алгоритм именно с этой мерой. \n",
    "Для подсчета расстояний можно использовать функции [отсюда](https://docs.scipy.org/doc/scipy/reference/spatial.distance.html)"
   ]
  },
  {
   "cell_type": "code",
   "execution_count": 2,
   "metadata": {},
   "outputs": [],
   "source": [
    "import scipy\n",
    "from scipy.sparse import csr_matrix\n",
    "from sklearn.metrics import pairwise_distances"
   ]
  },
  {
   "cell_type": "markdown",
   "metadata": {},
   "source": [
    "Импортирую scipy, чтобы обеспечить возможность работы с разреженными матрицами в последнем задании"
   ]
  },
  {
   "cell_type": "code",
   "execution_count": 3,
   "metadata": {},
   "outputs": [],
   "source": [
    "class MyKNeighborsClassifier(BaseEstimator):\n",
    "\n",
    "    def __init__(self, n_neighbors, algorithm='brute'):\n",
    "        self.nb_num = n_neighbors\n",
    "        self.alg = algorithm\n",
    "\n",
    "    def fit(self, X, y):\n",
    "        if not isinstance(X, scipy.sparse.csr_matrix):\n",
    "            self.x_train = X.astype(float)\n",
    "            self.y_train = y\n",
    "            if self.alg == 'kd_tree':\n",
    "                self.kd_data = KDTree(self.x_train)\n",
    "        else:\n",
    "            self.x_train = X\n",
    "            self.y_train = y\n",
    "\n",
    "    def predict(self, X, metric='euclidean'):\n",
    "        condition = (not isinstance(X, scipy.sparse.csr_matrix))\n",
    "        if self.alg == 'brute' and condition:\n",
    "            points_given = X.shape[0]\n",
    "            Xfl = X.astype(float)\n",
    "            helper = np.ones(points_given).astype(int)\n",
    "            helper = helper*self.x_train.shape[0]\n",
    "            X_prep = np.repeat(Xfl, helper, axis=0)\n",
    "            Xh = self.x_train[np.newaxis, ]\n",
    "            Xh = np.repeat(Xh, points_given, axis=0)\n",
    "            Xh = Xh.reshape(-1, X.shape[1])\n",
    "            if metric == 'euclidean':\n",
    "                res = self.Euclid(Xh, X_prep)\n",
    "            if metric == 'cosine':\n",
    "                res = self.Cosine(Xh, X_prep)\n",
    "            Xh = None\n",
    "            hold = res.reshape(-1, self.x_train.shape[0])\n",
    "            temp = np.argpartition(hold, self.nb_num)\n",
    "            temp = temp[::, 0:self.nb_num]\n",
    "            hhh = self.y_train[temp]\n",
    "            minl = np.max(hhh)+1\n",
    "            helper = np.apply_along_axis(np.bincount, 1, hhh, minlength=minl)\n",
    "            return np.argmax(helper, 1)\n",
    "        elif self.alg == 'kd_tree':\n",
    "            dist, index = self.kd_data.query(X.astype(float), k=self.nb_num)\n",
    "            hhh = self.y_train[index]\n",
    "            minl = np.max(hhh)+1\n",
    "            helper = np.apply_along_axis(np.bincount, 1, hhh, minlength=minl)\n",
    "            return np.argmax(helper, 1)\n",
    "        elif self.alg == 'brute' and (isinstance(X, scipy.sparse.csr_matrix)):\n",
    "            X = X.reshape(X.shape[0], -1)\n",
    "            dist = pairwise_distances(X, self.x_train, metric=metric)\n",
    "            temp = np.argpartition(dist, self.nb_num)\n",
    "            temp = temp[::, 0:self.nb_num]\n",
    "            hhh = self.y_train[temp]\n",
    "            minl = np.max(hhh)+1\n",
    "            helper = np.apply_along_axis(np.bincount, 1, hhh, minlength=minl)\n",
    "            return np.argmax(helper, 1)\n",
    "\n",
    "    def Euclid(self, A, B):\n",
    "        return (np.sqrt(((A-B)**2).sum(axis=1))).astype(float)\n",
    "\n",
    "    def Cosine(self, A, B):\n",
    "        self.zr = (np.sqrt((A*A).sum(axis=1))*np.sqrt((B*B).sum(axis=1)))\n",
    "        self.zr_ind = np.where(np.isclose(self.zr, 0.000))\n",
    "        self.zr[self.zr_ind] = 1\n",
    "        return 1-(A*B).sum(axis=1)/self.zr"
   ]
  },
  {
   "cell_type": "markdown",
   "metadata": {},
   "source": [
    "**IRIS**\n",
    "\n",
    "В библиотеке scikit-learn есть несколько датасетов из коробки. Один из них [Ирисы Фишера](https://ru.wikipedia.org/wiki/%D0%98%D1%80%D0%B8%D1%81%D1%8B_%D0%A4%D0%B8%D1%88%D0%B5%D1%80%D0%B0)"
   ]
  },
  {
   "cell_type": "code",
   "execution_count": 4,
   "metadata": {},
   "outputs": [],
   "source": [
    "iris = datasets.load_iris()"
   ]
  },
  {
   "cell_type": "code",
   "execution_count": 5,
   "metadata": {},
   "outputs": [],
   "source": [
    "X_train, X_test, y_train, y_test = train_test_split(iris.data, iris.target, test_size=0.1, stratify=iris.target)"
   ]
  },
  {
   "cell_type": "code",
   "execution_count": 6,
   "metadata": {},
   "outputs": [],
   "source": [
    "clf = KNeighborsClassifier(n_neighbors=2, algorithm='brute')\n",
    "my_clf = MyKNeighborsClassifier(n_neighbors=2, algorithm='brute')"
   ]
  },
  {
   "cell_type": "code",
   "execution_count": 7,
   "metadata": {},
   "outputs": [],
   "source": [
    "clf.fit(X_train, y_train)\n",
    "my_clf.fit(X_train, y_train)"
   ]
  },
  {
   "cell_type": "code",
   "execution_count": 8,
   "metadata": {},
   "outputs": [],
   "source": [
    "sklearn_pred = clf.predict(X_test)\n",
    "my_clf_pred = my_clf.predict(X_test)\n",
    "assert abs( accuracy_score(y_test, my_clf_pred) -  accuracy_score(y_test, sklearn_pred ) )<0.005, \"Score must be simillar\""
   ]
  },
  {
   "cell_type": "markdown",
   "metadata": {},
   "source": [
    "**Задание 2 (0.5 балла)**\n",
    "\n",
    "Давайте попробуем добиться скорости работы на fit, predict сравнимой со sklearn для iris. Допускается замедление не более чем в 2 раза. \n",
    "Для этого используем numpy. "
   ]
  },
  {
   "cell_type": "code",
   "execution_count": 9,
   "metadata": {},
   "outputs": [
    {
     "name": "stdout",
     "output_type": "stream",
     "text": [
      "CPU times: user 1.09 ms, sys: 433 µs, total: 1.52 ms\n",
      "Wall time: 1.14 ms\n"
     ]
    },
    {
     "data": {
      "text/plain": [
       "KNeighborsClassifier(algorithm='brute', n_neighbors=2)"
      ]
     },
     "execution_count": 9,
     "metadata": {},
     "output_type": "execute_result"
    }
   ],
   "source": [
    "%time clf.fit(X_train, y_train)"
   ]
  },
  {
   "cell_type": "code",
   "execution_count": 10,
   "metadata": {},
   "outputs": [
    {
     "name": "stdout",
     "output_type": "stream",
     "text": [
      "CPU times: user 28 µs, sys: 4 µs, total: 32 µs\n",
      "Wall time: 35 µs\n"
     ]
    }
   ],
   "source": [
    "%time my_clf.fit(X_train, y_train)"
   ]
  },
  {
   "cell_type": "code",
   "execution_count": 11,
   "metadata": {},
   "outputs": [
    {
     "name": "stdout",
     "output_type": "stream",
     "text": [
      "CPU times: user 3.36 ms, sys: 1.6 ms, total: 4.95 ms\n",
      "Wall time: 3.53 ms\n"
     ]
    },
    {
     "data": {
      "text/plain": [
       "array([0, 2, 2, 1, 2, 2, 1, 0, 1, 1, 2, 0, 0, 1, 0])"
      ]
     },
     "execution_count": 11,
     "metadata": {},
     "output_type": "execute_result"
    }
   ],
   "source": [
    "%time clf.predict(X_test)"
   ]
  },
  {
   "cell_type": "code",
   "execution_count": 12,
   "metadata": {},
   "outputs": [
    {
     "name": "stdout",
     "output_type": "stream",
     "text": [
      "CPU times: user 1.29 ms, sys: 1.13 ms, total: 2.41 ms\n",
      "Wall time: 1.37 ms\n"
     ]
    },
    {
     "data": {
      "text/plain": [
       "array([0, 2, 2, 1, 2, 2, 1, 0, 1, 1, 2, 0, 0, 1, 0])"
      ]
     },
     "execution_count": 12,
     "metadata": {},
     "output_type": "execute_result"
    }
   ],
   "source": [
    "%time my_clf.predict(X_test)"
   ]
  },
  {
   "cell_type": "markdown",
   "metadata": {},
   "source": [
    "###### Задание 3 (1 балл)\n",
    "Добавьте algorithm='kd_tree' в реализацию KNN (использовать KDTree из sklearn.neighbors). Необходимо добиться скорости работы на fit,  predict сравнимой со sklearn для iris. Допускается замедление не более чем в 2 раза. \n",
    "Для этого используем numpy. Точность не должна уступать значению KNN из sklearn. "
   ]
  },
  {
   "cell_type": "code",
   "execution_count": 13,
   "metadata": {},
   "outputs": [],
   "source": [
    "clf = KNeighborsClassifier(n_neighbors=2, algorithm='kd_tree')\n",
    "my_clf = MyKNeighborsClassifier(n_neighbors=2, algorithm='kd_tree')"
   ]
  },
  {
   "cell_type": "code",
   "execution_count": 14,
   "metadata": {},
   "outputs": [],
   "source": [
    "X_train, X_test, y_train, y_test = train_test_split(iris.data, iris.target, test_size=0.1, stratify=iris.target)"
   ]
  },
  {
   "cell_type": "code",
   "execution_count": 15,
   "metadata": {},
   "outputs": [
    {
     "name": "stdout",
     "output_type": "stream",
     "text": [
      "CPU times: user 1.61 ms, sys: 1.6 ms, total: 3.22 ms\n",
      "Wall time: 4.36 ms\n"
     ]
    },
    {
     "data": {
      "text/plain": [
       "KNeighborsClassifier(algorithm='kd_tree', n_neighbors=2)"
      ]
     },
     "execution_count": 15,
     "metadata": {},
     "output_type": "execute_result"
    }
   ],
   "source": [
    "%time clf.fit(X_train, y_train)"
   ]
  },
  {
   "cell_type": "code",
   "execution_count": 16,
   "metadata": {},
   "outputs": [
    {
     "name": "stdout",
     "output_type": "stream",
     "text": [
      "CPU times: user 192 µs, sys: 25 µs, total: 217 µs\n",
      "Wall time: 203 µs\n"
     ]
    }
   ],
   "source": [
    "%time my_clf.fit(X_train, y_train)"
   ]
  },
  {
   "cell_type": "code",
   "execution_count": 17,
   "metadata": {},
   "outputs": [
    {
     "name": "stdout",
     "output_type": "stream",
     "text": [
      "CPU times: user 4.58 ms, sys: 3.74 ms, total: 8.32 ms\n",
      "Wall time: 5.98 ms\n"
     ]
    },
    {
     "data": {
      "text/plain": [
       "array([1, 0, 1, 0, 1, 2, 2, 0, 0, 2, 1, 1, 2, 2, 0])"
      ]
     },
     "execution_count": 17,
     "metadata": {},
     "output_type": "execute_result"
    }
   ],
   "source": [
    "%time clf.predict(X_test)"
   ]
  },
  {
   "cell_type": "code",
   "execution_count": 18,
   "metadata": {},
   "outputs": [
    {
     "name": "stdout",
     "output_type": "stream",
     "text": [
      "CPU times: user 951 µs, sys: 592 µs, total: 1.54 ms\n",
      "Wall time: 1.09 ms\n"
     ]
    },
    {
     "data": {
      "text/plain": [
       "array([1, 0, 1, 0, 1, 2, 2, 0, 0, 2, 1, 1, 2, 2, 0])"
      ]
     },
     "execution_count": 18,
     "metadata": {},
     "output_type": "execute_result"
    }
   ],
   "source": [
    "%time my_clf.predict(X_test)"
   ]
  },
  {
   "cell_type": "code",
   "execution_count": 19,
   "metadata": {},
   "outputs": [],
   "source": [
    "sklearn_pred = clf.predict(X_test)\n",
    "my_clf_pred = my_clf.predict(X_test)\n",
    "assert abs( accuracy_score(y_test, my_clf_pred) -  accuracy_score(y_test, sklearn_pred ) )<0.005, \"Score must be simillar\""
   ]
  },
  {
   "cell_type": "markdown",
   "metadata": {},
   "source": [
    "**Задание 4 (2.5 балла)**\n",
    "\n",
    "Рассмотрим новый датасет 20 newsgroups"
   ]
  },
  {
   "cell_type": "code",
   "execution_count": 20,
   "metadata": {},
   "outputs": [],
   "source": [
    "newsgroups = fetch_20newsgroups(subset='train',remove=['headers','footers', 'quotes'])"
   ]
  },
  {
   "cell_type": "code",
   "execution_count": 21,
   "metadata": {},
   "outputs": [],
   "source": [
    "data = newsgroups['data']\n",
    "target = newsgroups['target']"
   ]
  },
  {
   "cell_type": "markdown",
   "metadata": {},
   "source": [
    "Преобразуйте текстовые данные из data с помощью [CountVectorizer](https://scikit-learn.org/stable/modules/generated/sklearn.feature_extraction.text.CountVectorizer.html). Словарь можно ограничить по частотности."
   ]
  },
  {
   "cell_type": "code",
   "execution_count": 22,
   "metadata": {},
   "outputs": [],
   "source": [
    "from sklearn.feature_extraction.text import CountVectorizer\n",
    "vectorizer = CountVectorizer(max_df = 0.006, stop_words = \"english\")\n",
    "X = vectorizer.fit_transform(data)"
   ]
  },
  {
   "cell_type": "markdown",
   "metadata": {},
   "source": [
    "*Так мы получили векторное представление наших текстов. Значит можно приступать к задаче обучения модели*"
   ]
  },
  {
   "cell_type": "markdown",
   "metadata": {},
   "source": [
    "Реализуйте разбиение выборки для кросс-валидации на 3 фолдах. Разрешено использовать sklearn.cross_validation"
   ]
  },
  {
   "cell_type": "code",
   "execution_count": 23,
   "metadata": {},
   "outputs": [],
   "source": [
    "from sklearn.model_selection import KFold\n",
    "skf = KFold(n_splits=3)\n",
    "max_points = 20"
   ]
  },
  {
   "cell_type": "markdown",
   "metadata": {},
   "source": [
    "Напишите метод, позволяющий найти оптимальное количество ближайших соседей(дающее максимальную точность в среднем на валидации на 3 фолдах).\n",
    "Постройте график зависимости средней точности от количества соседей. Можно рассмотреть число соседей от 1 до 10."
   ]
  },
  {
   "cell_type": "code",
   "execution_count": 24,
   "metadata": {},
   "outputs": [],
   "source": [
    "def validation(skf, X, target, metric='euclidean'):\n",
    "    results = []\n",
    "    for num_n in range(1, max_points):\n",
    "        res = 0.0\n",
    "        my_clf1 = MyKNeighborsClassifier(n_neighbors=num_n, algorithm='brute')\n",
    "        for train, test in skf.split(X, target):\n",
    "            my_clf1.fit(X[train], target[train])\n",
    "            temp = my_clf1.predict(X[test], metric=metric)\n",
    "            res = res + accuracy_score(target[test], temp)\n",
    "        results.append(res/3.0)\n",
    "        print(res/3.0)\n",
    "    return results"
   ]
  },
  {
   "cell_type": "code",
   "execution_count": 25,
   "metadata": {},
   "outputs": [],
   "source": [
    "def visualize_graph(results, max_points, title=\"Euclidean Countvectorizer\"):\n",
    "    plt.figure(figsize=(14, 10))\n",
    "    plt.title(title)\n",
    "    plt.plot(np.arange(1, max_points), results, color='green', label=\"sparse\")\n",
    "    plt.xlabel('Neighbors number', fontsize=20)\n",
    "    plt.ylabel('Score', fontsize=20)\n",
    "    plt.grid()\n",
    "    plt.legend()\n",
    "    plt.show()\n",
    "    help1 = results[np.argmax(np.array(results))]\n",
    "    help2 = np.argmax(np.array(results))+1\n",
    "    print(\"best res: \", help1, \" neighbours: \", help2)"
   ]
  },
  {
   "cell_type": "code",
   "execution_count": 26,
   "metadata": {},
   "outputs": [
    {
     "name": "stdout",
     "output_type": "stream",
     "text": [
      "0.2762062320218512\n",
      "0.1941841605472884\n",
      "0.2153963959479794\n",
      "0.21247930406736534\n",
      "0.20611569437613367\n",
      "0.20019398379795428\n",
      "0.19842648108263106\n",
      "0.19303501663220426\n",
      "0.19179759600508392\n",
      "0.188881089980005\n",
      "0.18366620238787215\n",
      "0.17880503093364095\n",
      "0.17580006072275448\n",
      "0.17482786861350677\n",
      "0.17049696672124967\n",
      "0.16758008574862823\n",
      "0.16855227785787594\n",
      "0.1647516923960357\n",
      "0.1629838616016128\n"
     ]
    },
    {
     "data": {
      "image/png": "[encoded data removed]",
      "text/plain": [
       "<Figure size 1008x720 with 1 Axes>"
      ]
     },
     "metadata": {
      "needs_background": "light"
     },
     "output_type": "display_data"
    },
    {
     "name": "stdout",
     "output_type": "stream",
     "text": [
      "best res:  0.2762062320218512  neighbours:  1\n"
     ]
    }
   ],
   "source": [
    "results = validation(skf, X, target)\n",
    "visualize_graph(results, max_points)"
   ]
  },
  {
   "cell_type": "markdown",
   "metadata": {},
   "source": [
    "Как изменится качество на валидации, если:\n",
    "\n",
    "1. Используется косинусная метрика вместо евклидовой.\n",
    "2. К текстам применяется TfIdf векторизацию( sklearn.feature_extraction.text.TfidfVectorizer)\n",
    "\n",
    "Сравните модели, выберите лучшую."
   ]
  },
  {
   "cell_type": "code",
   "execution_count": 27,
   "metadata": {},
   "outputs": [
    {
     "name": "stdout",
     "output_type": "stream",
     "text": [
      "0.5357079886042194\n",
      "0.493989075340928\n",
      "0.5309354219411241\n",
      "0.5446352318145989\n",
      "0.558953634830527\n",
      "0.5654945009724733\n",
      "0.5702673957146683\n",
      "0.5727421901004663\n",
      "0.5775149442373327\n",
      "0.5818461039060254\n",
      "0.5858233130946023\n",
      "0.5883864779293222\n",
      "0.5907732065110766\n",
      "0.5928944253643014\n",
      "0.5945737216702526\n",
      "0.5956340030177653\n",
      "0.5982858898147282\n",
      "0.5998767453690932\n",
      "0.5997000747739136\n"
     ]
    },
    {
     "data": {
      "image/png": "[encoded data removed]",
      "text/plain": [
       "<Figure size 1008x720 with 1 Axes>"
      ]
     },
     "metadata": {
      "needs_background": "light"
     },
     "output_type": "display_data"
    },
    {
     "name": "stdout",
     "output_type": "stream",
     "text": [
      "best res:  0.5998767453690932  neighbours:  18\n"
     ]
    }
   ],
   "source": [
    "results = validation(skf, X, target, metric = 'cosine')\n",
    "visualize_graph(results, max_points, title = \"Cosine Countvectorizer\")"
   ]
  },
  {
   "cell_type": "code",
   "execution_count": 28,
   "metadata": {},
   "outputs": [],
   "source": [
    "from sklearn.feature_extraction.text import TfidfVectorizer\n",
    "vectorizer = TfidfVectorizer(max_df = 0.006, stop_words = \"english\")\n",
    "X = vectorizer.fit_transform(data)"
   ]
  },
  {
   "cell_type": "code",
   "execution_count": 29,
   "metadata": {},
   "outputs": [
    {
     "name": "stdout",
     "output_type": "stream",
     "text": [
      "0.1552057388720959\n",
      "0.08591163667508143\n",
      "0.10703557192951474\n",
      "0.10031862104792401\n",
      "0.096783006327521\n",
      "0.09307090848570966\n",
      "0.09139144814020862\n",
      "0.09059599692880467\n",
      "0.08820947925504297\n",
      "0.08387850706012161\n",
      "0.08405527139218678\n",
      "0.0852928326246356\n",
      "0.08485044139293386\n",
      "0.08158028953261758\n",
      "0.08122671400004443\n",
      "0.08166851937621102\n",
      "0.07848687857014504\n",
      "0.07919405306951274\n",
      "0.07751475676356155\n"
     ]
    },
    {
     "data": {
      "image/png": "[encoded data removed]",
      "text/plain": [
       "<Figure size 1008x720 with 1 Axes>"
      ]
     },
     "metadata": {
      "needs_background": "light"
     },
     "output_type": "display_data"
    },
    {
     "name": "stdout",
     "output_type": "stream",
     "text": [
      "best res:  0.1552057388720959  neighbours:  1\n"
     ]
    }
   ],
   "source": [
    "results = validation(skf, X, target)\n",
    "visualize_graph(results, max_points, title = \"Euclidian TfidfVectorizer\")"
   ]
  },
  {
   "cell_type": "code",
   "execution_count": 30,
   "metadata": {},
   "outputs": [
    {
     "name": "stdout",
     "output_type": "stream",
     "text": [
      "0.560544373213785\n",
      "0.514583069112487\n",
      "0.5494963564003874\n",
      "0.5657596826219032\n",
      "0.5807846039789996\n",
      "0.5880324805807638\n",
      "0.5936891735490631\n",
      "0.5995230526654131\n",
      "0.6038538139523417\n",
      "0.6087149151039087\n",
      "0.608980354529774\n",
      "0.6106595805330611\n",
      "0.6087151260119014\n",
      "0.6111902250425776\n",
      "0.6156096614233065\n",
      "0.6134882785305318\n",
      "0.6139301542093626\n",
      "0.6152559452854048\n",
      "0.6180844089406616\n"
     ]
    },
    {
     "data": {
      "image/png": "[encoded data removed]",
      "text/plain": [
       "<Figure size 1008x720 with 1 Axes>"
      ]
     },
     "metadata": {
      "needs_background": "light"
     },
     "output_type": "display_data"
    },
    {
     "name": "stdout",
     "output_type": "stream",
     "text": [
      "best res:  0.6180844089406616  neighbours:  19\n"
     ]
    }
   ],
   "source": [
    "results = validation(skf, X, target, metric = \"cosine\")\n",
    "visualize_graph(results, max_points, title = \"Cosine TfidfVectorizer\")"
   ]
  },
  {
   "cell_type": "markdown",
   "metadata": {},
   "source": [
    "Лучшая модель - TfidfVectorizer с косинусной метрикой при 19 соседях"
   ]
  },
  {
   "cell_type": "code",
   "execution_count": 31,
   "metadata": {},
   "outputs": [],
   "source": [
    "my_clf1 = MyKNeighborsClassifier(n_neighbors=19, algorithm='brute')\n",
    "my_clf1.fit(X, target)"
   ]
  },
  {
   "cell_type": "markdown",
   "metadata": {},
   "source": [
    "Загрузим  теперь test  часть нашей выборки и преобразуем её аналогично с train частью. Не забудьте, что наборы слов в train и test части могут отличаться."
   ]
  },
  {
   "cell_type": "code",
   "execution_count": 32,
   "metadata": {},
   "outputs": [],
   "source": [
    "newsgroups = fetch_20newsgroups(subset='test', remove=['headers', 'footers', 'quotes'])"
   ]
  },
  {
   "cell_type": "markdown",
   "metadata": {},
   "source": [
    "Оценим точность вашей лучшей модели на test части датасета. Отличается ли оно от кросс-валидации? Попробуйте сделать выводы, почему отличается качество."
   ]
  },
  {
   "cell_type": "code",
   "execution_count": 33,
   "metadata": {},
   "outputs": [],
   "source": [
    "data = newsgroups['data']\n",
    "target = newsgroups['target']"
   ]
  },
  {
   "cell_type": "code",
   "execution_count": 34,
   "metadata": {},
   "outputs": [],
   "source": [
    "X1 = vectorizer.transform(data)"
   ]
  },
  {
   "cell_type": "code",
   "execution_count": 35,
   "metadata": {},
   "outputs": [
    {
     "data": {
      "text/plain": [
       "0.5736856080722251"
      ]
     },
     "execution_count": 35,
     "metadata": {},
     "output_type": "execute_result"
    }
   ],
   "source": [
    "accuracy_score(target, my_clf1.predict(X1, metric = \"cosine\"))"
   ]
  },
  {
   "cell_type": "markdown",
   "metadata": {},
   "source": [
    "Точность на тесте ниже, поскольку test часть может отличаться от train набором слов и их частотами. Мы не можем полностью\n",
    "избавиться от эффекта переобучения - подстраивания модели под тестовую часть выборки"
   ]
  }
 ],
 "metadata": {
  "kernelspec": {
   "display_name": "Python 3",
   "language": "python",
   "name": "python3"
  },
  "language_info": {
   "codemirror_mode": {
    "name": "ipython",
    "version": 3
   },
   "file_extension": ".py",
   "mimetype": "text/x-python",
   "name": "python",
   "nbconvert_exporter": "python",
   "pygments_lexer": "ipython3",
   "version": "3.8.5"
  }
 },
 "nbformat": 4,
 "nbformat_minor": 2
}
