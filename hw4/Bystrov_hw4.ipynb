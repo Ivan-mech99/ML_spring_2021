{
 "cells": [
  {
   "cell_type": "markdown",
   "metadata": {},
   "source": [
    "### Алгоритмы интеллектуальной обработки больших объемов данных\n",
    "## Домашнее задание №4 - Градиентный бустинг\n"
   ]
  },
  {
   "cell_type": "markdown",
   "metadata": {},
   "source": [
    "**Общая информация**\n",
    "\n",
    "**Срок сдачи:** 10 мая 2021, 08:30   \n",
    "**Штраф за опоздание:** -2 балла после 08:30 10 мая, -4 балла после 08:30 17 мая, -6 баллов после 08:30 24 мая, -8 баллов после 08:30 31 мая.\n",
    "\n",
    "При отправлении ДЗ указывайте фамилию в названии файла Присылать ДЗ необходимо в виде ссылки на свой github репозиторий на почту ml1.sphere@mail.ru с указанием темы в следующем формате:\n",
    "[ML0221, Задание 4] Фамилия Имя. \n",
    "\n",
    "\n",
    "Используйте данный Ipython Notebook при оформлении домашнего задания."
   ]
  },
  {
   "cell_type": "markdown",
   "metadata": {},
   "source": [
    "##  Считаем производные для функций потерь (1 балл)"
   ]
  },
  {
   "cell_type": "markdown",
   "metadata": {},
   "source": [
    "Мы будем реализовать градиентный бустинг для 3 функций потерь:\n",
    "\n",
    "1) MSE  $L(a(x_i), y_i) = (y_i - a(x_i)) ^ 2$\n",
    "\n",
    "2) Экспоненциальная  $L(a(x_i), y_i) = exp( -a(x_i) y_i), y_i \\in \\{-1, 1\\}$\n",
    "\n",
    "3) Логистическая  $L(a(x_i), y_i) = \\log (1 + exp( -a(x_i) y_i)), y_i \\in \\{-1, 1\\}$\n",
    "\n",
    "где $a(x_i)$ предсказание бустинга на итом объекте. \n",
    "\n",
    "Для каждой функции потерь напишите таргет, на который будет настраиваться каждое дерево в бустинге. "
   ]
  },
  {
   "cell_type": "markdown",
   "metadata": {},
   "source": [
    "Ваше решение тут"
   ]
  },
  {
   "cell_type": "markdown",
   "metadata": {},
   "source": [
    "1) MSE: $$  -\\frac{\\partial L(a(x_i), y_i)}{\\partial a(x_i)} = -\\frac{\\partial  (y_i - a(x_i)) ^ 2}{\\partial a(x_i)} = 2(y_i - a(x_i)) $$"
   ]
  },
  {
   "cell_type": "markdown",
   "metadata": {},
   "source": [
    "2) Экспоненциальный таргет: $$  -\\frac{\\partial L(a(x_i), y_i)}{\\partial a(x_i)} = -\\frac{\\partial  (exp( -a(x_i) y_i))}{\\partial a(x_i)} = y_iexp(-a(x_i)y_i) $$"
   ]
  },
  {
   "cell_type": "markdown",
   "metadata": {},
   "source": [
    "3) Логистический таргет: $$  -\\frac{\\partial L(a(x_i), y_i)}{\\partial a(x_i)} = -\\frac{\\partial  \\log (1 + exp( -a(x_i) y_i))}{\\partial a(x_i)} = \n",
    "    \\frac{y_i}{1 +  exp(a(x_i) y_i)}$$"
   ]
  },
  {
   "cell_type": "markdown",
   "metadata": {},
   "source": [
    "##  Реализуем градиентный бустинг (3 балла)"
   ]
  },
  {
   "cell_type": "markdown",
   "metadata": {},
   "source": [
    "Реализуйте класс градиентного бустинга для классификации. Ваша реализация бустинга должна работать по точности не более чем на 5 процентов хуже чем GradientBoostingClassifier из sklearn. \n"
   ]
  },
  {
   "cell_type": "markdown",
   "metadata": {},
   "source": [
    "Детали реализации:\n",
    "\n",
    "-- должно поддерживаться 3 функции потерь\n",
    "\n",
    "-- сами базовые алгоритмы(деревья, линейные модели и тп) реализовать не надо, просто возьмите готовые из sklearn\n",
    "\n",
    "-- в качестве функции потерь для построения одного дерева используйте MSE\n",
    "\n",
    "-- шаг в бустинге можно не подбирать, можно брать константный\n",
    "\n",
    "-- можно брать разные модели в качестве инициализации бустинга\n",
    "\n",
    "-- должны поддерживаться следующие параметры:\n",
    "\n",
    "а) число итераций\n",
    "б) размер шага\n",
    "в) процент случайных фичей при построении одного дерева\n",
    "д) процент случайных объектов при построении одного дерева\n",
    "е) параметры базового алгоритма (передавайте через **kwargs)"
   ]
  },
  {
   "cell_type": "code",
   "execution_count": 1,
   "metadata": {},
   "outputs": [],
   "source": [
    "import numpy as np\n",
    "\n",
    "from sklearn.datasets import load_wine\n",
    "from sklearn.ensemble import GradientBoostingClassifier\n",
    "from sklearn.metrics import accuracy_score\n",
    "from sklearn.model_selection import train_test_split\n",
    "from sklearn.tree import DecisionTreeRegressor\n",
    "import matplotlib.pyplot as plt"
   ]
  },
  {
   "cell_type": "code",
   "execution_count": 2,
   "metadata": {},
   "outputs": [],
   "source": [
    "class MyGradientBoostingClassifier:\n",
    "\n",
    "    def __init__(self, loss='mse', learning_rate=0.1, n_estimators=100, colsample=1.0, subsample=1.0, *args, **kwargs):\n",
    "        \"\"\"\n",
    "        loss -- один из 3 лоссов:\n",
    "        learning_rate -- шаг бустинга\n",
    "        n_estimators -- число итераций\n",
    "        colsample -- процент рандомных признаков при обучнеии одного алгоритма\n",
    "        colsample -- процент рандомных объектов при обучнеии одного алгоритма\n",
    "        args, kwargs -- параметры  базовых моделей\n",
    "        \"\"\"\n",
    "        self.loss = loss\n",
    "        self.learning_rate = learning_rate\n",
    "        self.n_estimators = n_estimators\n",
    "        self.colsample = colsample\n",
    "        self.subsample = subsample\n",
    "        self.args = args\n",
    "        self.kwargs = kwargs\n",
    "    \n",
    "    def calc_loss(self, y, a):\n",
    "        if self.loss == 'mse':\n",
    "            return 2 * (y - a)\n",
    "        elif self.loss == 'exp':\n",
    "            return y * np.exp(-y * a)\n",
    "        elif self.loss == 'log':\n",
    "            return y / (np.exp(a*y) + 1)\n",
    "    \n",
    "    def fit(self, X, y,  base_model = DecisionTreeRegressor, init_model=None):\n",
    "        \"\"\"\n",
    "        X -- объекты для обучения:\n",
    "        y -- таргеты для обучения\n",
    "        base_model -- класс базовых моделей, например sklearn.tree.DecisionTreeRegressor\n",
    "        init_model -- класс для первой модели, если None то берем константу (только для посл задания)\n",
    "        \"\"\"\n",
    "        self.info = dict()\n",
    "        total_objects = X.shape[0]\n",
    "        total_features = X.shape[1]\n",
    "        used_objects = int(np.floor(self.subsample * total_objects))\n",
    "        used_features = int(np.floor(self.colsample * total_features))\n",
    "        if init_model is not None:\n",
    "            self.init_model = init_model()\n",
    "            self.init_model.fit(X, y)\n",
    "            self.fk = self.init_model.predict(X)\n",
    "        else:\n",
    "            self.init_model = None\n",
    "            self.fk = np.ones(total_objects)/total_objects\n",
    "        for i in range(0, self.n_estimators):\n",
    "            cur_used_features = np.random.choice(total_features, used_features)\n",
    "            cur_used_objects = np.random.choice(total_objects, total_objects)\n",
    "            cur_model = base_model(*self.args, **self.kwargs)\n",
    "            used_X = X[cur_used_objects,:][:, cur_used_features]\n",
    "            used_for_pred_X = X[:,:][:, cur_used_features]\n",
    "            used_y = y[cur_used_objects]\n",
    "            used_fk = self.fk[cur_used_objects]\n",
    "            cur_los = self.calc_loss(used_y, used_fk)\n",
    "            cur_model.fit(used_X, cur_los)\n",
    "            self.fk = self.fk + self.learning_rate * cur_model.predict(used_for_pred_X)\n",
    "            self.info[i] = dict()\n",
    "            self.info[i][0] = cur_model\n",
    "            self.info[i][1] = cur_used_features\n",
    "        \n",
    "    def predict(self, X):\n",
    "        if self.init_model is not None:\n",
    "            res = self.init_model.predict(X)\n",
    "        else:\n",
    "            res = np.ones(X.shape[0])/X.shape[0]\n",
    "        for i in range(len(self.info)):\n",
    "            used_X = X[:,:][:, self.info[i][1]]\n",
    "            temp = self.info[i][0].predict(used_X)\n",
    "            temp = temp * self.learning_rate\n",
    "            res = res + temp\n",
    "        return np.around(res).astype('int')"
   ]
  },
  {
   "cell_type": "code",
   "execution_count": 3,
   "metadata": {},
   "outputs": [],
   "source": [
    "my_clf = MyGradientBoostingClassifier()\n",
    "clf = GradientBoostingClassifier()"
   ]
  },
  {
   "cell_type": "code",
   "execution_count": 4,
   "metadata": {},
   "outputs": [],
   "source": [
    "wine = load_wine()\n",
    "X_train, X_test, y_train, y_test = train_test_split(wine.data, wine.target, test_size=0.1, stratify=wine.target)"
   ]
  },
  {
   "cell_type": "code",
   "execution_count": 5,
   "metadata": {},
   "outputs": [
    {
     "name": "stdout",
     "output_type": "stream",
     "text": [
      "0.8888888888888888\n",
      "0.8888888888888888\n"
     ]
    }
   ],
   "source": [
    "my_clf.fit(X_train, y_train)\n",
    "clf.fit(X_train, y_train)\n",
    "print(accuracy_score(y_pred=clf.predict(X_test), y_true=y_test))\n",
    "print(accuracy_score(y_pred=my_clf.predict(X_test), y_true=y_test))"
   ]
  },
  {
   "cell_type": "markdown",
   "metadata": {},
   "source": [
    "## Подбираем параметры (2 балла)\n",
    "\n",
    "Давайте попробуем применить Ваш бустинг для предсказаний цены домов в Калифорнии. Чтобы можно было попробовтаь разные функции потерь, переведем по порогу таргет в 2 класса: дорогие и дешевые дома."
   ]
  },
  {
   "cell_type": "markdown",
   "metadata": {},
   "source": [
    "В задании нужно\n",
    "\n",
    "1) Построить график точности в зависимости от числа итераций на валидации.\n",
    "\n",
    "2) Подобрать оптимальные параметры Вашего бустинга на валидации. \n"
   ]
  },
  {
   "cell_type": "code",
   "execution_count": 6,
   "metadata": {},
   "outputs": [],
   "source": [
    "from sklearn.datasets import fetch_california_housing\n",
    "X, y = fetch_california_housing(return_X_y=True)"
   ]
  },
  {
   "cell_type": "code",
   "execution_count": 7,
   "metadata": {},
   "outputs": [
    {
     "name": "stdout",
     "output_type": "stream",
     "text": [
      "(20640, 8) (20640,)\n"
     ]
    }
   ],
   "source": [
    "# Превращаем регрессию в классификацию\n",
    "y = (y > 2.0).astype(int)\n",
    "print(X.shape, y.shape)"
   ]
  },
  {
   "cell_type": "code",
   "execution_count": 8,
   "metadata": {},
   "outputs": [],
   "source": [
    "from tqdm import tqdm_notebook\n",
    "import warnings\n",
    "warnings.filterwarnings('ignore')\n",
    "num_est = [5*i for i in np.arange(1, 11)]\n",
    "from sklearn.model_selection import KFold\n",
    "skf = KFold(n_splits=5, shuffle=True)"
   ]
  },
  {
   "cell_type": "code",
   "execution_count": 9,
   "metadata": {
    "scrolled": true
   },
   "outputs": [
    {
     "data": {
      "application/vnd.jupyter.widget-view+json": {
       "model_id": "b8c0fc61a05b4b36857b2672cfefc48a",
       "version_major": 2,
       "version_minor": 0
      },
      "text/plain": [
       "HBox(children=(HTML(value=''), FloatProgress(value=0.0, max=10.0), HTML(value='')))"
      ]
     },
     "metadata": {},
     "output_type": "display_data"
    },
    {
     "name": "stdout",
     "output_type": "stream",
     "text": [
      "0.8169089147286821\n",
      "0.8624515503875969\n",
      "0.8647286821705427\n",
      "0.8688953488372093\n",
      "0.8651162790697674\n",
      "0.8815891472868216\n",
      "0.870203488372093\n",
      "0.8781492248062015\n",
      "0.8775678294573643\n",
      "0.8659399224806201\n",
      "\n"
     ]
    }
   ],
   "source": [
    "results =[]\n",
    "for elem in tqdm_notebook(num_est):\n",
    "    res = 0.0\n",
    "    for train, test in skf.split(X, y):\n",
    "        my_clf1 = MyGradientBoostingClassifier(n_estimators=elem)\n",
    "        my_clf1.fit(X[train], y[train])\n",
    "        temp = my_clf1.predict(X[test])\n",
    "        res = res + accuracy_score(y[test], temp)\n",
    "    print(res/5.0)\n",
    "    results.append(res/5.0)"
   ]
  },
  {
   "cell_type": "code",
   "execution_count": 10,
   "metadata": {},
   "outputs": [
    {
     "data": {
      "image/png": "[encoded data removed]",
      "text/plain": [
       "<Figure size 1080x720 with 1 Axes>"
      ]
     },
     "metadata": {
      "needs_background": "light"
     },
     "output_type": "display_data"
    }
   ],
   "source": [
    "plt.figure(figsize=(15,10))\n",
    "plt.title(\"accuracy from n_estimators\", fontsize = 20)\n",
    "plt.xlabel(\"n_estimators\", fontsize = 20)\n",
    "plt.ylabel(\"accuracy_score\", fontsize = 20)\n",
    "plt.plot(num_est, results)\n",
    "plt.show()"
   ]
  },
  {
   "cell_type": "code",
   "execution_count": 11,
   "metadata": {},
   "outputs": [],
   "source": [
    "help1 = results.index(max(results))\n",
    "best_est = num_est[help1]"
   ]
  },
  {
   "cell_type": "code",
   "execution_count": 12,
   "metadata": {},
   "outputs": [
    {
     "data": {
      "text/plain": [
       "30"
      ]
     },
     "execution_count": 12,
     "metadata": {},
     "output_type": "execute_result"
    }
   ],
   "source": [
    "best_est"
   ]
  },
  {
   "cell_type": "markdown",
   "metadata": {},
   "source": [
    "В целях экономии времени при валидации, ограничим число n_estimators:"
   ]
  },
  {
   "cell_type": "code",
   "execution_count": 13,
   "metadata": {},
   "outputs": [],
   "source": [
    "best_est = 15"
   ]
  },
  {
   "cell_type": "code",
   "execution_count": 14,
   "metadata": {},
   "outputs": [],
   "source": [
    "loss = ['mse', 'exp','log']\n",
    "learn = [0.05, 0.1, 0.2]\n",
    "colsample = [0.5, 0.75, 1.0]\n",
    "subsample = [0.5, 0.75, 1.0]\n",
    "best_score = 0\n",
    "best_params = dict()\n",
    "best_params['loss'] = None\n",
    "best_params['learning_rate'] = None\n",
    "best_params['n_estimators'] = best_est\n",
    "best_params['colsample'] = None\n",
    "best_params['subsample'] = None"
   ]
  },
  {
   "cell_type": "code",
   "execution_count": 15,
   "metadata": {},
   "outputs": [
    {
     "name": "stdout",
     "output_type": "stream",
     "text": [
      "0.8174418604651162   1\n",
      "0.8174418604651162\n",
      "{'loss': 'mse', 'learning_rate': 0.05, 'n_estimators': 15, 'colsample': 0.5, 'subsample': 0.5}\n",
      "0.831734496124031   2\n",
      "0.831734496124031\n",
      "{'loss': 'mse', 'learning_rate': 0.05, 'n_estimators': 15, 'colsample': 0.5, 'subsample': 0.75}\n",
      "0.8235465116279072   3\n",
      "0.831734496124031\n",
      "{'loss': 'mse', 'learning_rate': 0.05, 'n_estimators': 15, 'colsample': 0.5, 'subsample': 0.75}\n",
      "0.8593507751937984   4\n",
      "0.8593507751937984\n",
      "{'loss': 'mse', 'learning_rate': 0.05, 'n_estimators': 15, 'colsample': 0.75, 'subsample': 0.5}\n",
      "0.8551841085271319   5\n",
      "0.8593507751937984\n",
      "{'loss': 'mse', 'learning_rate': 0.05, 'n_estimators': 15, 'colsample': 0.75, 'subsample': 0.5}\n",
      "0.8474321705426355   6\n",
      "0.8593507751937984\n",
      "{'loss': 'mse', 'learning_rate': 0.05, 'n_estimators': 15, 'colsample': 0.75, 'subsample': 0.5}\n",
      "0.8634205426356589   7\n",
      "0.8634205426356589\n",
      "{'loss': 'mse', 'learning_rate': 0.05, 'n_estimators': 15, 'colsample': 1.0, 'subsample': 0.5}\n",
      "0.8585271317829456   8\n",
      "0.8634205426356589\n",
      "{'loss': 'mse', 'learning_rate': 0.05, 'n_estimators': 15, 'colsample': 1.0, 'subsample': 0.5}\n",
      "0.867296511627907   9\n",
      "0.867296511627907\n",
      "{'loss': 'mse', 'learning_rate': 0.05, 'n_estimators': 15, 'colsample': 1.0, 'subsample': 1.0}\n",
      "0.8343992248062015   10\n",
      "0.867296511627907\n",
      "{'loss': 'mse', 'learning_rate': 0.05, 'n_estimators': 15, 'colsample': 1.0, 'subsample': 1.0}\n",
      "0.8138565891472869   11\n",
      "0.867296511627907\n",
      "{'loss': 'mse', 'learning_rate': 0.05, 'n_estimators': 15, 'colsample': 1.0, 'subsample': 1.0}\n",
      "0.8348837209302327   12\n",
      "0.867296511627907\n",
      "{'loss': 'mse', 'learning_rate': 0.05, 'n_estimators': 15, 'colsample': 1.0, 'subsample': 1.0}\n",
      "0.858624031007752   13\n",
      "0.867296511627907\n",
      "{'loss': 'mse', 'learning_rate': 0.05, 'n_estimators': 15, 'colsample': 1.0, 'subsample': 1.0}\n",
      "0.8496124031007752   14\n",
      "0.867296511627907\n",
      "{'loss': 'mse', 'learning_rate': 0.05, 'n_estimators': 15, 'colsample': 1.0, 'subsample': 1.0}\n",
      "0.8599806201550386   15\n",
      "0.867296511627907\n",
      "{'loss': 'mse', 'learning_rate': 0.05, 'n_estimators': 15, 'colsample': 1.0, 'subsample': 1.0}\n",
      "0.8711240310077519   16\n",
      "0.8711240310077519\n",
      "{'loss': 'mse', 'learning_rate': 0.1, 'n_estimators': 15, 'colsample': 1.0, 'subsample': 0.5}\n",
      "0.874563953488372   17\n",
      "0.874563953488372\n",
      "{'loss': 'mse', 'learning_rate': 0.1, 'n_estimators': 15, 'colsample': 1.0, 'subsample': 0.75}\n",
      "0.8709786821705426   18\n",
      "0.874563953488372\n",
      "{'loss': 'mse', 'learning_rate': 0.1, 'n_estimators': 15, 'colsample': 1.0, 'subsample': 0.75}\n",
      "0.798013565891473   19\n",
      "0.874563953488372\n",
      "{'loss': 'mse', 'learning_rate': 0.1, 'n_estimators': 15, 'colsample': 1.0, 'subsample': 0.75}\n",
      "0.7874031007751938   20\n",
      "0.874563953488372\n",
      "{'loss': 'mse', 'learning_rate': 0.1, 'n_estimators': 15, 'colsample': 1.0, 'subsample': 0.75}\n",
      "0.7926841085271317   21\n",
      "0.874563953488372\n",
      "{'loss': 'mse', 'learning_rate': 0.1, 'n_estimators': 15, 'colsample': 1.0, 'subsample': 0.75}\n",
      "0.8300872093023255   22\n",
      "0.874563953488372\n",
      "{'loss': 'mse', 'learning_rate': 0.1, 'n_estimators': 15, 'colsample': 1.0, 'subsample': 0.75}\n",
      "0.8303294573643409   23\n",
      "0.874563953488372\n",
      "{'loss': 'mse', 'learning_rate': 0.1, 'n_estimators': 15, 'colsample': 1.0, 'subsample': 0.75}\n",
      "0.8264534883720931   24\n",
      "0.874563953488372\n",
      "{'loss': 'mse', 'learning_rate': 0.1, 'n_estimators': 15, 'colsample': 1.0, 'subsample': 0.75}\n",
      "0.846656976744186   25\n",
      "0.874563953488372\n",
      "{'loss': 'mse', 'learning_rate': 0.1, 'n_estimators': 15, 'colsample': 1.0, 'subsample': 0.75}\n",
      "0.8458333333333332   26\n",
      "0.874563953488372\n",
      "{'loss': 'mse', 'learning_rate': 0.1, 'n_estimators': 15, 'colsample': 1.0, 'subsample': 0.75}\n",
      "0.8409399224806201   27\n",
      "0.874563953488372\n",
      "{'loss': 'mse', 'learning_rate': 0.1, 'n_estimators': 15, 'colsample': 1.0, 'subsample': 0.75}\n",
      "0.6484496124031007   28\n",
      "0.874563953488372\n",
      "{'loss': 'mse', 'learning_rate': 0.1, 'n_estimators': 15, 'colsample': 1.0, 'subsample': 0.75}\n",
      "0.664389534883721   29\n",
      "0.874563953488372\n",
      "{'loss': 'mse', 'learning_rate': 0.1, 'n_estimators': 15, 'colsample': 1.0, 'subsample': 0.75}\n",
      "0.6836724806201551   30\n",
      "0.874563953488372\n",
      "{'loss': 'mse', 'learning_rate': 0.1, 'n_estimators': 15, 'colsample': 1.0, 'subsample': 0.75}\n",
      "0.7270348837209302   31\n",
      "0.874563953488372\n",
      "{'loss': 'mse', 'learning_rate': 0.1, 'n_estimators': 15, 'colsample': 1.0, 'subsample': 0.75}\n",
      "0.7097868217054263   32\n",
      "0.874563953488372\n",
      "{'loss': 'mse', 'learning_rate': 0.1, 'n_estimators': 15, 'colsample': 1.0, 'subsample': 0.75}\n",
      "0.7358527131782945   33\n",
      "0.874563953488372\n",
      "{'loss': 'mse', 'learning_rate': 0.1, 'n_estimators': 15, 'colsample': 1.0, 'subsample': 0.75}\n",
      "0.7527131782945736   34\n",
      "0.874563953488372\n",
      "{'loss': 'mse', 'learning_rate': 0.1, 'n_estimators': 15, 'colsample': 1.0, 'subsample': 0.75}\n",
      "0.7615310077519379   35\n",
      "0.874563953488372\n",
      "{'loss': 'mse', 'learning_rate': 0.1, 'n_estimators': 15, 'colsample': 1.0, 'subsample': 0.75}\n",
      "0.751841085271318   36\n",
      "0.874563953488372\n",
      "{'loss': 'mse', 'learning_rate': 0.1, 'n_estimators': 15, 'colsample': 1.0, 'subsample': 0.75}\n",
      "0.8581395348837211   37\n",
      "0.874563953488372\n",
      "{'loss': 'mse', 'learning_rate': 0.1, 'n_estimators': 15, 'colsample': 1.0, 'subsample': 0.75}\n",
      "0.8559593023255813   38\n",
      "0.874563953488372\n",
      "{'loss': 'mse', 'learning_rate': 0.1, 'n_estimators': 15, 'colsample': 1.0, 'subsample': 0.75}\n",
      "0.8536337209302326   39\n",
      "0.874563953488372\n",
      "{'loss': 'mse', 'learning_rate': 0.1, 'n_estimators': 15, 'colsample': 1.0, 'subsample': 0.75}\n",
      "0.8709302325581396   40\n",
      "0.874563953488372\n",
      "{'loss': 'mse', 'learning_rate': 0.1, 'n_estimators': 15, 'colsample': 1.0, 'subsample': 0.75}\n",
      "0.879796511627907   41\n",
      "0.879796511627907\n",
      "{'loss': 'exp', 'learning_rate': 0.1, 'n_estimators': 15, 'colsample': 0.75, 'subsample': 0.75}\n",
      "0.8656007751937984   42\n",
      "0.879796511627907\n",
      "{'loss': 'exp', 'learning_rate': 0.1, 'n_estimators': 15, 'colsample': 0.75, 'subsample': 0.75}\n",
      "0.8801841085271318   43\n",
      "0.8801841085271318\n",
      "{'loss': 'exp', 'learning_rate': 0.1, 'n_estimators': 15, 'colsample': 1.0, 'subsample': 0.5}\n",
      "0.8825096899224805   44\n",
      "0.8825096899224805\n",
      "{'loss': 'exp', 'learning_rate': 0.1, 'n_estimators': 15, 'colsample': 1.0, 'subsample': 0.75}\n",
      "0.8770348837209301   45\n",
      "0.8825096899224805\n",
      "{'loss': 'exp', 'learning_rate': 0.1, 'n_estimators': 15, 'colsample': 1.0, 'subsample': 0.75}\n",
      "0.7840116279069768   46\n",
      "0.8825096899224805\n",
      "{'loss': 'exp', 'learning_rate': 0.1, 'n_estimators': 15, 'colsample': 1.0, 'subsample': 0.75}\n",
      "0.8127422480620154   47\n",
      "0.8825096899224805\n",
      "{'loss': 'exp', 'learning_rate': 0.1, 'n_estimators': 15, 'colsample': 1.0, 'subsample': 0.75}\n",
      "0.801986434108527   48\n",
      "0.8825096899224805\n",
      "{'loss': 'exp', 'learning_rate': 0.1, 'n_estimators': 15, 'colsample': 1.0, 'subsample': 0.75}\n",
      "0.8317829457364342   49\n",
      "0.8825096899224805\n",
      "{'loss': 'exp', 'learning_rate': 0.1, 'n_estimators': 15, 'colsample': 1.0, 'subsample': 0.75}\n",
      "0.8450096899224807   50\n",
      "0.8825096899224805\n",
      "{'loss': 'exp', 'learning_rate': 0.1, 'n_estimators': 15, 'colsample': 1.0, 'subsample': 0.75}\n",
      "0.8257267441860465   51\n",
      "0.8825096899224805\n",
      "{'loss': 'exp', 'learning_rate': 0.1, 'n_estimators': 15, 'colsample': 1.0, 'subsample': 0.75}\n",
      "0.8434108527131784   52\n",
      "0.8825096899224805\n",
      "{'loss': 'exp', 'learning_rate': 0.1, 'n_estimators': 15, 'colsample': 1.0, 'subsample': 0.75}\n",
      "0.8484011627906977   53\n",
      "0.8825096899224805\n",
      "{'loss': 'exp', 'learning_rate': 0.1, 'n_estimators': 15, 'colsample': 1.0, 'subsample': 0.75}\n",
      "0.8523255813953489   54\n",
      "0.8825096899224805\n",
      "{'loss': 'exp', 'learning_rate': 0.1, 'n_estimators': 15, 'colsample': 1.0, 'subsample': 0.75}\n",
      "0.5780523255813954   55\n",
      "0.8825096899224805\n",
      "{'loss': 'exp', 'learning_rate': 0.1, 'n_estimators': 15, 'colsample': 1.0, 'subsample': 0.75}\n",
      "0.5780523255813954   56\n",
      "0.8825096899224805\n",
      "{'loss': 'exp', 'learning_rate': 0.1, 'n_estimators': 15, 'colsample': 1.0, 'subsample': 0.75}\n",
      "0.5780523255813954   57\n",
      "0.8825096899224805\n",
      "{'loss': 'exp', 'learning_rate': 0.1, 'n_estimators': 15, 'colsample': 1.0, 'subsample': 0.75}\n",
      "0.5780523255813954   58\n",
      "0.8825096899224805\n",
      "{'loss': 'exp', 'learning_rate': 0.1, 'n_estimators': 15, 'colsample': 1.0, 'subsample': 0.75}\n",
      "0.5780523255813954   59\n",
      "0.8825096899224805\n",
      "{'loss': 'exp', 'learning_rate': 0.1, 'n_estimators': 15, 'colsample': 1.0, 'subsample': 0.75}\n",
      "0.5780523255813954   60\n",
      "0.8825096899224805\n",
      "{'loss': 'exp', 'learning_rate': 0.1, 'n_estimators': 15, 'colsample': 1.0, 'subsample': 0.75}\n"
     ]
    },
    {
     "name": "stdout",
     "output_type": "stream",
     "text": [
      "0.5780523255813954   61\n",
      "0.8825096899224805\n",
      "{'loss': 'exp', 'learning_rate': 0.1, 'n_estimators': 15, 'colsample': 1.0, 'subsample': 0.75}\n",
      "0.5780523255813954   62\n",
      "0.8825096899224805\n",
      "{'loss': 'exp', 'learning_rate': 0.1, 'n_estimators': 15, 'colsample': 1.0, 'subsample': 0.75}\n",
      "0.5780523255813954   63\n",
      "0.8825096899224805\n",
      "{'loss': 'exp', 'learning_rate': 0.1, 'n_estimators': 15, 'colsample': 1.0, 'subsample': 0.75}\n",
      "0.7445736434108526   64\n",
      "0.8825096899224805\n",
      "{'loss': 'exp', 'learning_rate': 0.1, 'n_estimators': 15, 'colsample': 1.0, 'subsample': 0.75}\n",
      "0.7486918604651163   65\n",
      "0.8825096899224805\n",
      "{'loss': 'exp', 'learning_rate': 0.1, 'n_estimators': 15, 'colsample': 1.0, 'subsample': 0.75}\n",
      "0.7390988372093024   66\n",
      "0.8825096899224805\n",
      "{'loss': 'exp', 'learning_rate': 0.1, 'n_estimators': 15, 'colsample': 1.0, 'subsample': 0.75}\n",
      "0.7855135658914729   67\n",
      "0.8825096899224805\n",
      "{'loss': 'exp', 'learning_rate': 0.1, 'n_estimators': 15, 'colsample': 1.0, 'subsample': 0.75}\n",
      "0.7901647286821707   68\n",
      "0.8825096899224805\n",
      "{'loss': 'exp', 'learning_rate': 0.1, 'n_estimators': 15, 'colsample': 1.0, 'subsample': 0.75}\n",
      "0.7784399224806201   69\n",
      "0.8825096899224805\n",
      "{'loss': 'exp', 'learning_rate': 0.1, 'n_estimators': 15, 'colsample': 1.0, 'subsample': 0.75}\n",
      "0.8190891472868216   70\n",
      "0.8825096899224805\n",
      "{'loss': 'exp', 'learning_rate': 0.1, 'n_estimators': 15, 'colsample': 1.0, 'subsample': 0.75}\n",
      "0.8191860465116279   71\n",
      "0.8825096899224805\n",
      "{'loss': 'exp', 'learning_rate': 0.1, 'n_estimators': 15, 'colsample': 1.0, 'subsample': 0.75}\n",
      "0.8066375968992249   72\n",
      "0.8825096899224805\n",
      "{'loss': 'exp', 'learning_rate': 0.1, 'n_estimators': 15, 'colsample': 1.0, 'subsample': 0.75}\n",
      "0.8540697674418605   73\n",
      "0.8825096899224805\n",
      "{'loss': 'exp', 'learning_rate': 0.1, 'n_estimators': 15, 'colsample': 1.0, 'subsample': 0.75}\n",
      "0.8573158914728684   74\n",
      "0.8825096899224805\n",
      "{'loss': 'exp', 'learning_rate': 0.1, 'n_estimators': 15, 'colsample': 1.0, 'subsample': 0.75}\n",
      "0.8436046511627907   75\n",
      "0.8825096899224805\n",
      "{'loss': 'exp', 'learning_rate': 0.1, 'n_estimators': 15, 'colsample': 1.0, 'subsample': 0.75}\n",
      "0.8718992248062015   76\n",
      "0.8825096899224805\n",
      "{'loss': 'exp', 'learning_rate': 0.1, 'n_estimators': 15, 'colsample': 1.0, 'subsample': 0.75}\n",
      "0.8658430232558139   77\n",
      "0.8825096899224805\n",
      "{'loss': 'exp', 'learning_rate': 0.1, 'n_estimators': 15, 'colsample': 1.0, 'subsample': 0.75}\n",
      "0.8731589147286822   78\n",
      "0.8825096899224805\n",
      "{'loss': 'exp', 'learning_rate': 0.1, 'n_estimators': 15, 'colsample': 1.0, 'subsample': 0.75}\n",
      "0.8718023255813954   79\n",
      "0.8825096899224805\n",
      "{'loss': 'exp', 'learning_rate': 0.1, 'n_estimators': 15, 'colsample': 1.0, 'subsample': 0.75}\n",
      "0.8711240310077519   80\n",
      "0.8825096899224805\n",
      "{'loss': 'exp', 'learning_rate': 0.1, 'n_estimators': 15, 'colsample': 1.0, 'subsample': 0.75}\n",
      "0.873546511627907   81\n",
      "0.8825096899224805\n",
      "{'loss': 'exp', 'learning_rate': 0.1, 'n_estimators': 15, 'colsample': 1.0, 'subsample': 0.75}\n"
     ]
    }
   ],
   "source": [
    "ind = 0\n",
    "for loss1 in loss:\n",
    "    for learn1 in learn:\n",
    "        for colsample1 in colsample:\n",
    "            for subsample1 in subsample:\n",
    "                res = 0.0\n",
    "                ind+=1\n",
    "                for train, test in skf.split(X, y):\n",
    "                    my_clf1 = MyGradientBoostingClassifier(loss=loss1, learning_rate=learn1, \n",
    "                                                        n_estimators=best_est,\n",
    "                                                        colsample=colsample1, \n",
    "                                                        subsample=subsample1)\n",
    "                    my_clf1.fit(X[train], y[train])\n",
    "                    temp = my_clf1.predict(X[test])\n",
    "                    res = res + accuracy_score(y[test], temp)\n",
    "                print(res/5.0, \" \", ind)\n",
    "                if (res/5.0) > best_score:\n",
    "                    best_score = res/5.0\n",
    "                    best_params['loss'] = loss1\n",
    "                    best_params['learning_rate'] = learn1\n",
    "                    best_params['colsample'] = colsample1\n",
    "                    best_params['subsample'] = subsample1\n",
    "                print(best_score)\n",
    "                print(best_params)"
   ]
  },
  {
   "cell_type": "markdown",
   "metadata": {},
   "source": [
    "Результаты, полученные на валидации"
   ]
  },
  {
   "cell_type": "code",
   "execution_count": 16,
   "metadata": {},
   "outputs": [
    {
     "data": {
      "text/plain": [
       "{'loss': 'exp',\n",
       " 'learning_rate': 0.1,\n",
       " 'n_estimators': 15,\n",
       " 'colsample': 1.0,\n",
       " 'subsample': 0.75}"
      ]
     },
     "execution_count": 16,
     "metadata": {},
     "output_type": "execute_result"
    }
   ],
   "source": [
    "best_params"
   ]
  },
  {
   "cell_type": "code",
   "execution_count": 17,
   "metadata": {},
   "outputs": [
    {
     "data": {
      "text/plain": [
       "0.8825096899224805"
      ]
     },
     "execution_count": 17,
     "metadata": {},
     "output_type": "execute_result"
    }
   ],
   "source": [
    "best_score"
   ]
  },
  {
   "cell_type": "markdown",
   "metadata": {},
   "source": [
    "## BooBag BagBoo (1 балл)\n",
    "\n"
   ]
  },
  {
   "cell_type": "markdown",
   "metadata": {},
   "source": [
    "Попробуем объединить бустинг и бэгинг. Давайте\n",
    "\n",
    "1) в качестве базовой модели брать не дерево решений, а случайный лес (из sklearn)\n",
    "\n",
    "2) обучать N бустингов на бустрапированной выборке, а затем предикт усреднять"
   ]
  },
  {
   "cell_type": "markdown",
   "metadata": {},
   "source": [
    "Попробуйте обе этих стратегии на данных из прошлого задания. Получилось ли улучшить качество? Почему?"
   ]
  },
  {
   "cell_type": "code",
   "execution_count": 18,
   "metadata": {},
   "outputs": [
    {
     "name": "stdout",
     "output_type": "stream",
     "text": [
      "0.9001937984496124\n",
      "0.8825096899224806\n",
      "0.8965600775193798\n",
      "0.8783914728682171\n",
      "0.9004360465116279\n",
      "BooBag result:  0.8916182170542637\n"
     ]
    }
   ],
   "source": [
    "from sklearn.ensemble import RandomForestRegressor\n",
    "res = 0.0\n",
    "for train, test in skf.split(X, y):\n",
    "    my_clf1 = MyGradientBoostingClassifier(**best_params)\n",
    "    my_clf1.fit(X[train], y[train], base_model = RandomForestRegressor)\n",
    "    temp = my_clf1.predict(X[test])\n",
    "    res = res + accuracy_score(y[test], temp)\n",
    "    print(accuracy_score(y[test], temp))\n",
    "print(\"BooBag result: \", res/5.0)"
   ]
  },
  {
   "cell_type": "code",
   "execution_count": 19,
   "metadata": {},
   "outputs": [
    {
     "data": {
      "application/vnd.jupyter.widget-view+json": {
       "model_id": "f2b8640bc4f24796aea2c82da56e6421",
       "version_major": 2,
       "version_minor": 0
      },
      "text/plain": [
       "HBox(children=(HTML(value=''), FloatProgress(value=0.0, max=50.0), HTML(value='')))"
      ]
     },
     "metadata": {},
     "output_type": "display_data"
    },
    {
     "name": "stdout",
     "output_type": "stream",
     "text": [
      "\n"
     ]
    },
    {
     "data": {
      "application/vnd.jupyter.widget-view+json": {
       "model_id": "00bfe8025b20427dbe9fb69b26dd4d2b",
       "version_major": 2,
       "version_minor": 0
      },
      "text/plain": [
       "HBox(children=(HTML(value=''), FloatProgress(value=0.0, max=50.0), HTML(value='')))"
      ]
     },
     "metadata": {},
     "output_type": "display_data"
    },
    {
     "name": "stdout",
     "output_type": "stream",
     "text": [
      "\n"
     ]
    },
    {
     "data": {
      "application/vnd.jupyter.widget-view+json": {
       "model_id": "7fbedab675f14f93af27bfd6b56f4ebc",
       "version_major": 2,
       "version_minor": 0
      },
      "text/plain": [
       "HBox(children=(HTML(value=''), FloatProgress(value=0.0, max=50.0), HTML(value='')))"
      ]
     },
     "metadata": {},
     "output_type": "display_data"
    },
    {
     "name": "stdout",
     "output_type": "stream",
     "text": [
      "\n"
     ]
    },
    {
     "data": {
      "application/vnd.jupyter.widget-view+json": {
       "model_id": "56bfb5a8022f4b7fba62790eb63c9517",
       "version_major": 2,
       "version_minor": 0
      },
      "text/plain": [
       "HBox(children=(HTML(value=''), FloatProgress(value=0.0, max=50.0), HTML(value='')))"
      ]
     },
     "metadata": {},
     "output_type": "display_data"
    },
    {
     "name": "stdout",
     "output_type": "stream",
     "text": [
      "\n"
     ]
    },
    {
     "data": {
      "application/vnd.jupyter.widget-view+json": {
       "model_id": "e35ec61b47d8452cb22b75564b319dc8",
       "version_major": 2,
       "version_minor": 0
      },
      "text/plain": [
       "HBox(children=(HTML(value=''), FloatProgress(value=0.0, max=50.0), HTML(value='')))"
      ]
     },
     "metadata": {},
     "output_type": "display_data"
    },
    {
     "name": "stdout",
     "output_type": "stream",
     "text": [
      "\n",
      "BagBoo result:  0.8526647286821705\n"
     ]
    }
   ],
   "source": [
    "res = 0.0\n",
    "N = 50\n",
    "for train, test in skf.split(X, y):\n",
    "    res1 = 0\n",
    "    for i in tqdm_notebook(range(N)):\n",
    "        my_clf1 = MyGradientBoostingClassifier(**best_params)\n",
    "        obj = np.random.choice(X[train].shape[0], X[train].shape[0] // N)\n",
    "        my_clf1.fit(X[train][obj], y[train][obj])\n",
    "        temp = my_clf1.predict(X[test])\n",
    "        res1 = res1 + temp\n",
    "    res1 = res1 / N\n",
    "    resN = np.around(res1).astype('int')\n",
    "    res = res + accuracy_score(y[test], resN)\n",
    "print(\"BagBoo result: \", res/5.0)"
   ]
  },
  {
   "cell_type": "markdown",
   "metadata": {},
   "source": [
    "При использовании Random Forest в качестве базовой модели скор увеличился - Random Forest лучше адаптируется под данные.\n",
    "BagBoo не улучшил результаты, возможно, для него необходимо отдельно подбирать параметры на валидации."
   ]
  },
  {
   "cell_type": "markdown",
   "metadata": {
    "collapsed": true
   },
   "source": [
    "## Умная инициализация (1 балл)\n",
    "\n",
    "Попробуйте брать в качестве инициализации бустинга не константу, а какой-то алгоритм и уже от его предикта стартовать итерации бустинга. Попробуйте разные модели из sklearn: линейные модели, рандом форест, svm..\n",
    "\n",
    "Получилось ли улучшить качество? Почему?\n",
    "\n"
   ]
  },
  {
   "cell_type": "code",
   "execution_count": 20,
   "metadata": {},
   "outputs": [],
   "source": [
    "from sklearn.linear_model import LinearRegression, LogisticRegression\n",
    "from sklearn.tree import DecisionTreeRegressor, DecisionTreeClassifier\n",
    "from sklearn.linear_model import SGDClassifier\n",
    "from sklearn.svm import LinearSVC, SVC\n",
    "from sklearn.ensemble import RandomForestRegressor, RandomForestClassifier"
   ]
  },
  {
   "cell_type": "code",
   "execution_count": 21,
   "metadata": {},
   "outputs": [
    {
     "name": "stdout",
     "output_type": "stream",
     "text": [
      "0.8827519379844961\n",
      "0.8846899224806202\n",
      "0.8921996124031008\n",
      "0.8733042635658915\n",
      "0.8834786821705426\n",
      "Score LinearRegression:  0.8832848837209303\n"
     ]
    }
   ],
   "source": [
    "res = 0.0\n",
    "for train, test in skf.split(X, y):\n",
    "    my_clf1 = MyGradientBoostingClassifier()\n",
    "    my_clf1.fit(X[train], y[train], init_model = LinearRegression)\n",
    "    temp = my_clf1.predict(X[test])\n",
    "    res = res + accuracy_score(y[test], temp)\n",
    "    print(accuracy_score(y[test], temp))\n",
    "print(\"Score LinearRegression: \", res/5.0)"
   ]
  },
  {
   "cell_type": "code",
   "execution_count": 22,
   "metadata": {},
   "outputs": [
    {
     "name": "stdout",
     "output_type": "stream",
     "text": [
      "0.8396317829457365\n",
      "0.8299418604651163\n",
      "0.8316375968992248\n",
      "0.8217054263565892\n",
      "0.8238856589147286\n",
      "Score LogisticRegression:  0.8293604651162791\n"
     ]
    }
   ],
   "source": [
    "res = 0.0\n",
    "for train, test in skf.split(X, y):\n",
    "    my_clf1 = MyGradientBoostingClassifier()\n",
    "    my_clf1.fit(X[train], y[train], init_model = LogisticRegression)\n",
    "    temp = my_clf1.predict(X[test])\n",
    "    res = res + accuracy_score(y[test], temp)\n",
    "    print(accuracy_score(y[test], temp))\n",
    "print(\"Score LogisticRegression: \", res/5.0)"
   ]
  },
  {
   "cell_type": "code",
   "execution_count": 23,
   "metadata": {},
   "outputs": [
    {
     "name": "stdout",
     "output_type": "stream",
     "text": [
      "0.8374515503875969\n",
      "0.8328488372093024\n",
      "0.8284883720930233\n",
      "0.8318798449612403\n",
      "0.844718992248062\n",
      "Score DecisionTreeRegressor:  0.835077519379845\n"
     ]
    }
   ],
   "source": [
    "res = 0.0\n",
    "for train, test in skf.split(X, y):\n",
    "    my_clf1 = MyGradientBoostingClassifier()\n",
    "    my_clf1.fit(X[train], y[train], init_model = DecisionTreeRegressor)\n",
    "    temp = my_clf1.predict(X[test])\n",
    "    res = res + accuracy_score(y[test], temp)\n",
    "    print(accuracy_score(y[test], temp))\n",
    "print(\"Score DecisionTreeRegressor: \", res/5.0)"
   ]
  },
  {
   "cell_type": "code",
   "execution_count": 24,
   "metadata": {},
   "outputs": [
    {
     "name": "stdout",
     "output_type": "stream",
     "text": [
      "0.8318798449612403\n",
      "0.8323643410852714\n",
      "0.8357558139534884\n",
      "0.8287306201550387\n",
      "0.8355135658914729\n",
      "Score DecisionTreeClassifier:  0.8328488372093024\n"
     ]
    }
   ],
   "source": [
    "res = 0.0\n",
    "for train, test in skf.split(X, y):\n",
    "    my_clf1 = MyGradientBoostingClassifier()\n",
    "    my_clf1.fit(X[train], y[train], init_model = DecisionTreeClassifier)\n",
    "    temp = my_clf1.predict(X[test])\n",
    "    res = res + accuracy_score(y[test], temp)\n",
    "    print(accuracy_score(y[test], temp))\n",
    "print(\"Score DecisionTreeClassifier: \", res/5.0)"
   ]
  },
  {
   "cell_type": "code",
   "execution_count": 25,
   "metadata": {},
   "outputs": [
    {
     "name": "stdout",
     "output_type": "stream",
     "text": [
      "0.8069282945736435\n",
      "0.8502906976744186\n",
      "0.8040213178294574\n",
      "0.8231589147286822\n",
      "0.8204941860465116\n",
      "Score SGDClassifier:  0.8209786821705427\n"
     ]
    }
   ],
   "source": [
    "res = 0.0\n",
    "for train, test in skf.split(X, y):\n",
    "    my_clf1 = MyGradientBoostingClassifier()\n",
    "    my_clf1.fit(X[train], y[train], init_model = SGDClassifier)\n",
    "    temp = my_clf1.predict(X[test])\n",
    "    res = res + accuracy_score(y[test], temp)\n",
    "    print(accuracy_score(y[test], temp))\n",
    "print(\"Score SGDClassifier: \", res/5.0)"
   ]
  },
  {
   "cell_type": "code",
   "execution_count": 26,
   "metadata": {},
   "outputs": [
    {
     "name": "stdout",
     "output_type": "stream",
     "text": [
      "0.8459302325581395\n",
      "0.8548934108527132\n",
      "0.7877906976744186\n",
      "0.8250968992248062\n",
      "0.7902131782945736\n",
      "Score LinearSVC:  0.8207848837209302\n"
     ]
    }
   ],
   "source": [
    "res = 0.0\n",
    "for train, test in skf.split(X, y):\n",
    "    my_clf1 = MyGradientBoostingClassifier()\n",
    "    my_clf1.fit(X[train], y[train], init_model = LinearSVC)\n",
    "    temp = my_clf1.predict(X[test])\n",
    "    res = res + accuracy_score(y[test], temp)\n",
    "    print(accuracy_score(y[test], temp))\n",
    "print(\"Score LinearSVC: \", res/5.0)"
   ]
  },
  {
   "cell_type": "code",
   "execution_count": 27,
   "metadata": {},
   "outputs": [
    {
     "name": "stdout",
     "output_type": "stream",
     "text": [
      "0.8657945736434108\n",
      "0.8791182170542635\n",
      "0.875484496124031\n",
      "0.8817829457364341\n",
      "0.8689437984496124\n",
      "Score SVC:  0.8742248062015502\n"
     ]
    }
   ],
   "source": [
    "res = 0.0\n",
    "for train, test in skf.split(X, y):\n",
    "    my_clf1 = MyGradientBoostingClassifier()\n",
    "    my_clf1.fit(X[train], y[train], init_model = SVC)\n",
    "    temp = my_clf1.predict(X[test])\n",
    "    res = res + accuracy_score(y[test], temp)\n",
    "    print(accuracy_score(y[test], temp))\n",
    "print(\"Score SVC: \", res/5.0)"
   ]
  },
  {
   "cell_type": "code",
   "execution_count": 28,
   "metadata": {},
   "outputs": [
    {
     "name": "stdout",
     "output_type": "stream",
     "text": [
      "0.8856589147286822\n",
      "0.8931686046511628\n",
      "0.8868701550387597\n",
      "0.8800872093023255\n",
      "0.8885658914728682\n",
      "Score RandomForestRegressor:  0.8868701550387599\n"
     ]
    }
   ],
   "source": [
    "res = 0.0\n",
    "for train, test in skf.split(X, y):\n",
    "    my_clf1 = MyGradientBoostingClassifier()\n",
    "    my_clf1.fit(X[train], y[train], init_model = RandomForestRegressor)\n",
    "    temp = my_clf1.predict(X[test])\n",
    "    res = res + accuracy_score(y[test], temp)\n",
    "    print(accuracy_score(y[test], temp))\n",
    "print(\"Score RandomForestRegressor: \", res/5.0)"
   ]
  },
  {
   "cell_type": "code",
   "execution_count": 29,
   "metadata": {},
   "outputs": [
    {
     "name": "stdout",
     "output_type": "stream",
     "text": [
      "0.8849321705426356\n",
      "0.8905038759689923\n",
      "0.8842054263565892\n",
      "0.8892926356589147\n",
      "0.8924418604651163\n",
      "Score RandomForestClassifier:  0.8882751937984497\n"
     ]
    }
   ],
   "source": [
    "res = 0.0\n",
    "for train, test in skf.split(X, y):\n",
    "    my_clf1 = MyGradientBoostingClassifier()\n",
    "    my_clf1.fit(X[train], y[train], init_model = RandomForestClassifier)\n",
    "    temp = my_clf1.predict(X[test])\n",
    "    res = res + accuracy_score(y[test], temp)\n",
    "    print(accuracy_score(y[test], temp))\n",
    "print(\"Score RandomForestClassifier: \", res/5.0)"
   ]
  },
  {
   "cell_type": "markdown",
   "metadata": {},
   "source": [
    "Качество решения при использовании RandomForestClassifier улучшилось - модель дает в начале более точное решение, проще исправлять ошибки на следующих итерациях"
   ]
  },
  {
   "cell_type": "markdown",
   "metadata": {},
   "source": [
    "## Фидбек (бесценно)"
   ]
  },
  {
   "cell_type": "markdown",
   "metadata": {},
   "source": [
    "* Какие аспекты обучения  ансамблей Вам показались непонятными? Какое место стоит дополнительно объяснить?"
   ]
  },
  {
   "cell_type": "markdown",
   "metadata": {},
   "source": [
    "### Ваш ответ здесь"
   ]
  },
  {
   "cell_type": "markdown",
   "metadata": {},
   "source": [
    "* Здесь Вы можете оставить отзыв о этой домашней работе или о всем курсе."
   ]
  },
  {
   "cell_type": "markdown",
   "metadata": {},
   "source": [
    "### ВАШ ОТЗЫВ ЗДЕСЬ\n",
    "\n"
   ]
  },
  {
   "cell_type": "code",
   "execution_count": null,
   "metadata": {},
   "outputs": [],
   "source": []
  },
  {
   "cell_type": "code",
   "execution_count": null,
   "metadata": {},
   "outputs": [],
   "source": []
  }
 ],
 "metadata": {
  "anaconda-cloud": {},
  "kernelspec": {
   "display_name": "Python 3",
   "language": "python",
   "name": "python3"
  },
  "language_info": {
   "codemirror_mode": {
    "name": "ipython",
    "version": 3
   },
   "file_extension": ".py",
   "mimetype": "text/x-python",
   "name": "python",
   "nbconvert_exporter": "python",
   "pygments_lexer": "ipython3",
   "version": "3.8.5"
  }
 },
 "nbformat": 4,
 "nbformat_minor": 2
}
